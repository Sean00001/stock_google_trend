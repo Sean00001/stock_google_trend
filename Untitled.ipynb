{
 "cells": [
  {
   "cell_type": "code",
   "execution_count": 20,
   "id": "9fcc2ed8",
   "metadata": {},
   "outputs": [],
   "source": [
    "import numpy_financial as npf"
   ]
  },
  {
   "cell_type": "code",
   "execution_count": 21,
   "id": "75a10180",
   "metadata": {},
   "outputs": [],
   "source": [
    "fv = 326409"
   ]
  },
  {
   "cell_type": "code",
   "execution_count": 22,
   "id": "10757537",
   "metadata": {},
   "outputs": [],
   "source": [
    "rate = 0.06"
   ]
  },
  {
   "cell_type": "code",
   "execution_count": 23,
   "id": "4145d659",
   "metadata": {},
   "outputs": [],
   "source": [
    "near =12"
   ]
  },
  {
   "cell_type": "code",
   "execution_count": 24,
   "id": "bb9c9d81",
   "metadata": {},
   "outputs": [],
   "source": [
    "aa = npf.pmt(rate, near,0,-fv)"
   ]
  },
  {
   "cell_type": "code",
   "execution_count": 25,
   "id": "aa6feb21",
   "metadata": {},
   "outputs": [
    {
     "data": {
      "text/plain": [
       "19349"
      ]
     },
     "execution_count": 25,
     "metadata": {},
     "output_type": "execute_result"
    }
   ],
   "source": [
    "round(aa)"
   ]
  },
  {
   "cell_type": "code",
   "execution_count": 41,
   "id": "c09fd2a0",
   "metadata": {},
   "outputs": [],
   "source": [
    "fv = npf.fv(0.02,12,0,-30000)"
   ]
  },
  {
   "cell_type": "code",
   "execution_count": 42,
   "id": "bf58384b",
   "metadata": {},
   "outputs": [
    {
     "data": {
      "text/plain": [
       "38047"
      ]
     },
     "execution_count": 42,
     "metadata": {},
     "output_type": "execute_result"
    }
   ],
   "source": [
    "round(fv)"
   ]
  },
  {
   "cell_type": "code",
   "execution_count": 61,
   "id": "8df57905",
   "metadata": {},
   "outputs": [],
   "source": [
    "pv = round(npf.pv(0.05-0.02,20,-120000,0,0))"
   ]
  },
  {
   "cell_type": "code",
   "execution_count": 62,
   "id": "b8afc72b",
   "metadata": {},
   "outputs": [
    {
     "data": {
      "text/plain": [
       "1785297"
      ]
     },
     "execution_count": 62,
     "metadata": {},
     "output_type": "execute_result"
    }
   ],
   "source": [
    "pv"
   ]
  },
  {
   "cell_type": "code",
   "execution_count": 64,
   "id": "1452be32",
   "metadata": {},
   "outputs": [
    {
     "data": {
      "text/plain": [
       "162215"
      ]
     },
     "execution_count": 64,
     "metadata": {},
     "output_type": "execute_result"
    }
   ],
   "source": [
    "round(npf.pv(0.06,12,0,-326409))"
   ]
  },
  {
   "cell_type": "code",
   "execution_count": null,
   "id": "dfc75216",
   "metadata": {},
   "outputs": [],
   "source": []
  },
  {
   "cell_type": "code",
   "execution_count": null,
   "id": "1df1f837",
   "metadata": {},
   "outputs": [],
   "source": [
    "round(npf.pmt(rate, near,0,-fv))"
   ]
  },
  {
   "cell_type": "code",
   "execution_count": null,
   "id": "175f4729",
   "metadata": {},
   "outputs": [],
   "source": []
  }
 ],
 "metadata": {
  "kernelspec": {
   "display_name": "Python 3 (ipykernel)",
   "language": "python",
   "name": "python3"
  },
  "language_info": {
   "codemirror_mode": {
    "name": "ipython",
    "version": 3
   },
   "file_extension": ".py",
   "mimetype": "text/x-python",
   "name": "python",
   "nbconvert_exporter": "python",
   "pygments_lexer": "ipython3",
   "version": "3.7.13"
  }
 },
 "nbformat": 4,
 "nbformat_minor": 5
}
